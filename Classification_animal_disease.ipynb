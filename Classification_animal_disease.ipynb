{
  "nbformat": 4,
  "nbformat_minor": 0,
  "metadata": {
    "colab": {
      "provenance": []
    },
    "kernelspec": {
      "name": "python3",
      "display_name": "Python 3"
    },
    "language_info": {
      "name": "python"
    }
  },
  "cells": [
    {
      "cell_type": "code",
      "execution_count": 247,
      "metadata": {
        "colab": {
          "base_uri": "https://localhost:8080/"
        },
        "id": "nyZpnEI3zWAN",
        "outputId": "376d9cd0-c7c6-4389-d063-db050fa4d518"
      },
      "outputs": [
        {
          "output_type": "stream",
          "name": "stdout",
          "text": [
            "Requirement already satisfied: fast_ml in /usr/local/lib/python3.10/dist-packages (3.68)\n"
          ]
        }
      ],
      "source": [
        "import pandas as pd\n",
        "import numpy as np\n",
        "import matplotlib.pyplot as plt\n",
        "import seaborn as sns\n",
        "!pip install fast_ml\n",
        "from fast_ml import eda\n",
        "\n"
      ]
    },
    {
      "cell_type": "code",
      "source": [
        "data = pd.read_csv(\"/animal_disease_dataset.csv\")\n"
      ],
      "metadata": {
        "id": "MtJ9cOue00zN"
      },
      "execution_count": 248,
      "outputs": []
    },
    {
      "cell_type": "code",
      "source": [
        "#find the unique diseases\n",
        "data['Disease'].unique()\n"
      ],
      "metadata": {
        "colab": {
          "base_uri": "https://localhost:8080/"
        },
        "id": "67OcIiQK53nB",
        "outputId": "34f69c40-f64c-4ce3-c90d-ae2f4d0f947c"
      },
      "execution_count": 249,
      "outputs": [
        {
          "output_type": "execute_result",
          "data": {
            "text/plain": [
              "array(['pneumonia', 'lumpy virus', 'blackleg', 'foot and mouth',\n",
              "       'anthrax'], dtype=object)"
            ]
          },
          "metadata": {},
          "execution_count": 249
        }
      ]
    },
    {
      "cell_type": "code",
      "source": [
        "len(data['Disease'].unique())"
      ],
      "metadata": {
        "colab": {
          "base_uri": "https://localhost:8080/"
        },
        "id": "J9G-KO576SoF",
        "outputId": "6a41c929-30af-4e3e-cf5a-2049798e7327"
      },
      "execution_count": 250,
      "outputs": [
        {
          "output_type": "execute_result",
          "data": {
            "text/plain": [
              "5"
            ]
          },
          "metadata": {},
          "execution_count": 250
        }
      ]
    },
    {
      "cell_type": "code",
      "source": [
        "data.head()\n",
        "data = data.drop('Temperature', axis=1)\n"
      ],
      "metadata": {
        "id": "ZDlGxYqw04C6"
      },
      "execution_count": 251,
      "outputs": []
    },
    {
      "cell_type": "code",
      "source": [
        "for col in data.columns:\n",
        "  data[col].replace({'-':np.nan},inplace = True)\n",
        "  print(data)"
      ],
      "metadata": {
        "colab": {
          "base_uri": "https://localhost:8080/"
        },
        "id": "ZFbslSwd047N",
        "outputId": "1076dbf8-c78b-474e-be55-a57a2d653b10"
      },
      "execution_count": 252,
      "outputs": [
        {
          "output_type": "stream",
          "name": "stdout",
          "text": [
            "        Animal  Age                Symptom 1         Symptom 2  \\\n",
            "0          cow    3               depression    painless lumps   \n",
            "1      buffalo   13           painless lumps  loss of appetite   \n",
            "2        sheep    1               depression    painless lumps   \n",
            "3          cow   14         loss of appetite  swelling in limb   \n",
            "4        sheep    2           painless lumps  loss of appetite   \n",
            "...        ...  ...                      ...               ...   \n",
            "43773     goat    9       swelling in muscle          lameness   \n",
            "43774  buffalo    3         loss of appetite    sores on mouth   \n",
            "43775  buffalo   15  swelling in extremities            chills   \n",
            "43776      cow    9          crackling sound          lameness   \n",
            "43777  buffalo    4       difficulty walking     sores on gums   \n",
            "\n",
            "                 Symptom 3         Disease  \n",
            "0         loss of appetite       pneumonia  \n",
            "1               depression     lumpy virus  \n",
            "2         loss of appetite     lumpy virus  \n",
            "3          crackling sound        blackleg  \n",
            "4               depression       pneumonia  \n",
            "...                    ...             ...  \n",
            "43773      crackling sound        blackleg  \n",
            "43774   difficulty walking  foot and mouth  \n",
            "43775  shortness of breath         anthrax  \n",
            "43776   swelling in muscle        blackleg  \n",
            "43777     loss of appetite  foot and mouth  \n",
            "\n",
            "[43778 rows x 6 columns]\n",
            "        Animal  Age                Symptom 1         Symptom 2  \\\n",
            "0          cow    3               depression    painless lumps   \n",
            "1      buffalo   13           painless lumps  loss of appetite   \n",
            "2        sheep    1               depression    painless lumps   \n",
            "3          cow   14         loss of appetite  swelling in limb   \n",
            "4        sheep    2           painless lumps  loss of appetite   \n",
            "...        ...  ...                      ...               ...   \n",
            "43773     goat    9       swelling in muscle          lameness   \n",
            "43774  buffalo    3         loss of appetite    sores on mouth   \n",
            "43775  buffalo   15  swelling in extremities            chills   \n",
            "43776      cow    9          crackling sound          lameness   \n",
            "43777  buffalo    4       difficulty walking     sores on gums   \n",
            "\n",
            "                 Symptom 3         Disease  \n",
            "0         loss of appetite       pneumonia  \n",
            "1               depression     lumpy virus  \n",
            "2         loss of appetite     lumpy virus  \n",
            "3          crackling sound        blackleg  \n",
            "4               depression       pneumonia  \n",
            "...                    ...             ...  \n",
            "43773      crackling sound        blackleg  \n",
            "43774   difficulty walking  foot and mouth  \n",
            "43775  shortness of breath         anthrax  \n",
            "43776   swelling in muscle        blackleg  \n",
            "43777     loss of appetite  foot and mouth  \n",
            "\n",
            "[43778 rows x 6 columns]\n",
            "        Animal  Age                Symptom 1         Symptom 2  \\\n",
            "0          cow    3               depression    painless lumps   \n",
            "1      buffalo   13           painless lumps  loss of appetite   \n",
            "2        sheep    1               depression    painless lumps   \n",
            "3          cow   14         loss of appetite  swelling in limb   \n",
            "4        sheep    2           painless lumps  loss of appetite   \n",
            "...        ...  ...                      ...               ...   \n",
            "43773     goat    9       swelling in muscle          lameness   \n",
            "43774  buffalo    3         loss of appetite    sores on mouth   \n",
            "43775  buffalo   15  swelling in extremities            chills   \n",
            "43776      cow    9          crackling sound          lameness   \n",
            "43777  buffalo    4       difficulty walking     sores on gums   \n",
            "\n",
            "                 Symptom 3         Disease  \n",
            "0         loss of appetite       pneumonia  \n",
            "1               depression     lumpy virus  \n",
            "2         loss of appetite     lumpy virus  \n",
            "3          crackling sound        blackleg  \n",
            "4               depression       pneumonia  \n",
            "...                    ...             ...  \n",
            "43773      crackling sound        blackleg  \n",
            "43774   difficulty walking  foot and mouth  \n",
            "43775  shortness of breath         anthrax  \n",
            "43776   swelling in muscle        blackleg  \n",
            "43777     loss of appetite  foot and mouth  \n",
            "\n",
            "[43778 rows x 6 columns]\n",
            "        Animal  Age                Symptom 1         Symptom 2  \\\n",
            "0          cow    3               depression    painless lumps   \n",
            "1      buffalo   13           painless lumps  loss of appetite   \n",
            "2        sheep    1               depression    painless lumps   \n",
            "3          cow   14         loss of appetite  swelling in limb   \n",
            "4        sheep    2           painless lumps  loss of appetite   \n",
            "...        ...  ...                      ...               ...   \n",
            "43773     goat    9       swelling in muscle          lameness   \n",
            "43774  buffalo    3         loss of appetite    sores on mouth   \n",
            "43775  buffalo   15  swelling in extremities            chills   \n",
            "43776      cow    9          crackling sound          lameness   \n",
            "43777  buffalo    4       difficulty walking     sores on gums   \n",
            "\n",
            "                 Symptom 3         Disease  \n",
            "0         loss of appetite       pneumonia  \n",
            "1               depression     lumpy virus  \n",
            "2         loss of appetite     lumpy virus  \n",
            "3          crackling sound        blackleg  \n",
            "4               depression       pneumonia  \n",
            "...                    ...             ...  \n",
            "43773      crackling sound        blackleg  \n",
            "43774   difficulty walking  foot and mouth  \n",
            "43775  shortness of breath         anthrax  \n",
            "43776   swelling in muscle        blackleg  \n",
            "43777     loss of appetite  foot and mouth  \n",
            "\n",
            "[43778 rows x 6 columns]\n",
            "        Animal  Age                Symptom 1         Symptom 2  \\\n",
            "0          cow    3               depression    painless lumps   \n",
            "1      buffalo   13           painless lumps  loss of appetite   \n",
            "2        sheep    1               depression    painless lumps   \n",
            "3          cow   14         loss of appetite  swelling in limb   \n",
            "4        sheep    2           painless lumps  loss of appetite   \n",
            "...        ...  ...                      ...               ...   \n",
            "43773     goat    9       swelling in muscle          lameness   \n",
            "43774  buffalo    3         loss of appetite    sores on mouth   \n",
            "43775  buffalo   15  swelling in extremities            chills   \n",
            "43776      cow    9          crackling sound          lameness   \n",
            "43777  buffalo    4       difficulty walking     sores on gums   \n",
            "\n",
            "                 Symptom 3         Disease  \n",
            "0         loss of appetite       pneumonia  \n",
            "1               depression     lumpy virus  \n",
            "2         loss of appetite     lumpy virus  \n",
            "3          crackling sound        blackleg  \n",
            "4               depression       pneumonia  \n",
            "...                    ...             ...  \n",
            "43773      crackling sound        blackleg  \n",
            "43774   difficulty walking  foot and mouth  \n",
            "43775  shortness of breath         anthrax  \n",
            "43776   swelling in muscle        blackleg  \n",
            "43777     loss of appetite  foot and mouth  \n",
            "\n",
            "[43778 rows x 6 columns]\n",
            "        Animal  Age                Symptom 1         Symptom 2  \\\n",
            "0          cow    3               depression    painless lumps   \n",
            "1      buffalo   13           painless lumps  loss of appetite   \n",
            "2        sheep    1               depression    painless lumps   \n",
            "3          cow   14         loss of appetite  swelling in limb   \n",
            "4        sheep    2           painless lumps  loss of appetite   \n",
            "...        ...  ...                      ...               ...   \n",
            "43773     goat    9       swelling in muscle          lameness   \n",
            "43774  buffalo    3         loss of appetite    sores on mouth   \n",
            "43775  buffalo   15  swelling in extremities            chills   \n",
            "43776      cow    9          crackling sound          lameness   \n",
            "43777  buffalo    4       difficulty walking     sores on gums   \n",
            "\n",
            "                 Symptom 3         Disease  \n",
            "0         loss of appetite       pneumonia  \n",
            "1               depression     lumpy virus  \n",
            "2         loss of appetite     lumpy virus  \n",
            "3          crackling sound        blackleg  \n",
            "4               depression       pneumonia  \n",
            "...                    ...             ...  \n",
            "43773      crackling sound        blackleg  \n",
            "43774   difficulty walking  foot and mouth  \n",
            "43775  shortness of breath         anthrax  \n",
            "43776   swelling in muscle        blackleg  \n",
            "43777     loss of appetite  foot and mouth  \n",
            "\n",
            "[43778 rows x 6 columns]\n"
          ]
        }
      ]
    },
    {
      "cell_type": "code",
      "source": [
        "missing_data = data.isnull().sum()\n",
        "missing_percentage = (missing_data[missing_data>0] / data.shape[0]) * 100\n",
        "print(missing_percentage)"
      ],
      "metadata": {
        "colab": {
          "base_uri": "https://localhost:8080/"
        },
        "id": "N26Btp7l0_PJ",
        "outputId": "41214225-60b1-4419-846e-e10ed895bb89"
      },
      "execution_count": 253,
      "outputs": [
        {
          "output_type": "stream",
          "name": "stdout",
          "text": [
            "Series([], dtype: float64)\n"
          ]
        }
      ]
    },
    {
      "cell_type": "code",
      "source": [
        "sns.barplot(x=missing_percentage.index, y=missing_percentage)\n",
        "\n",
        "plt.xlabel('Missing Data')\n",
        "plt.ylabel('Missing Percentage')\n",
        "plt.title('Percentage of Missing Values')\n",
        "plt.show()"
      ],
      "metadata": {
        "colab": {
          "base_uri": "https://localhost:8080/",
          "height": 472
        },
        "id": "kbCAMRXb1Jg9",
        "outputId": "99e717a3-3b5a-4250-ff72-b0f287960f57"
      },
      "execution_count": 254,
      "outputs": [
        {
          "output_type": "display_data",
          "data": {
            "text/plain": [
              "<Figure size 640x480 with 1 Axes>"
            ],
            "image/png": "[encoded data removed]"
          },
          "metadata": {}
        }
      ]
    },
    {
      "cell_type": "code",
      "source": [
        "X = data[['Animal','Symptom 1','Symptom 2','Symptom 3']]\n",
        "y = data['Disease']"
      ],
      "metadata": {
        "id": "9Q8L6XDu1UzG"
      },
      "execution_count": 255,
      "outputs": []
    },
    {
      "cell_type": "code",
      "source": [
        "from sklearn.compose import ColumnTransformer\n",
        "from sklearn.preprocessing import OneHotEncoder\n",
        "categorical_features = ['Animal','Symptom 1','Symptom 2','Symptom 3']\n",
        "ct = ColumnTransformer(transformers=[('encoder', OneHotEncoder(), categorical_features)], remainder='passthrough')\n",
        "\n",
        "# Apply fit_transform directly on the DataFrame 'X'\n",
        "X = ct.fit_transform(X) # Remove np.array() as X is already a DataFrame"
      ],
      "metadata": {
        "id": "nl8VwX501ZAC"
      },
      "execution_count": 256,
      "outputs": []
    },
    {
      "cell_type": "code",
      "source": [
        "# label_encoder = preprocessing.LabelEncoder()\n",
        "\n",
        "# # Encode labels in the 'Country' column\n",
        "# df['Animal'] = label_encoder.fit_transform(df['Country'])"
      ],
      "metadata": {
        "id": "GwpoA6F5WPPO"
      },
      "execution_count": 257,
      "outputs": []
    },
    {
      "cell_type": "code",
      "source": [
        "#print the values in the X\n",
        "nm = X.toarray()\n",
        "print(nm)\n",
        "\n"
      ],
      "metadata": {
        "colab": {
          "base_uri": "https://localhost:8080/"
        },
        "id": "OWk4ZXcVFPn_",
        "outputId": "523bcddc-93af-4d11-c4f8-0a172c934896"
      },
      "execution_count": 258,
      "outputs": [
        {
          "output_type": "stream",
          "name": "stdout",
          "text": [
            "[[0. 1. 0. ... 0. 0. 0.]\n",
            " [1. 0. 0. ... 0. 0. 0.]\n",
            " [0. 0. 0. ... 0. 0. 0.]\n",
            " ...\n",
            " [1. 0. 0. ... 0. 0. 0.]\n",
            " [0. 1. 0. ... 0. 1. 0.]\n",
            " [1. 0. 0. ... 0. 0. 0.]]\n"
          ]
        }
      ]
    },
    {
      "cell_type": "code",
      "source": [
        "from sklearn.model_selection import train_test_split\n",
        "X_train, X_test, y_train, y_test = train_test_split(X, y, test_size=0.25, random_state=42)"
      ],
      "metadata": {
        "id": "BBtdIDKL1bPZ"
      },
      "execution_count": 259,
      "outputs": []
    },
    {
      "cell_type": "code",
      "source": [
        "from sklearn.preprocessing import StandardScaler\n",
        "from sklearn.linear_model import LogisticRegression\n",
        "from sklearn.metrics import accuracy_score\n",
        "from sklearn.metrics import precision_score\n",
        "from sklearn.metrics import recall_score\n",
        "from sklearn.metrics import f1_score\n",
        "from sklearn.metrics import confusion_matrix\n",
        "from sklearn.metrics import classification_report"
      ],
      "metadata": {
        "id": "b0VX0wN91dgw"
      },
      "execution_count": 260,
      "outputs": []
    },
    {
      "cell_type": "code",
      "source": [
        "# sc = StandardScaler(with_mean=False)\n",
        "# X_train = sc.fit_transform(X_train)\n",
        "# X_test = sc.transform(X_test)"
      ],
      "metadata": {
        "id": "Ub_wZMZw1f_7"
      },
      "execution_count": 261,
      "outputs": []
    },
    {
      "cell_type": "code",
      "source": [
        "classifier = LogisticRegression(random_state=0)\n",
        "classifier.fit(X_train, y_train)\n"
      ],
      "metadata": {
        "colab": {
          "base_uri": "https://localhost:8080/",
          "height": 213
        },
        "id": "5BHw66BP1vUO",
        "outputId": "09f72ced-1709-4dc4-c2bb-067f2e7112f8"
      },
      "execution_count": 262,
      "outputs": [
        {
          "output_type": "stream",
          "name": "stderr",
          "text": [
            "/usr/local/lib/python3.10/dist-packages/sklearn/linear_model/_logistic.py:460: ConvergenceWarning: lbfgs failed to converge (status=1):\n",
            "STOP: TOTAL NO. of ITERATIONS REACHED LIMIT.\n",
            "\n",
            "Increase the number of iterations (max_iter) or scale the data as shown in:\n",
            "    https://scikit-learn.org/stable/modules/preprocessing.html\n",
            "Please also refer to the documentation for alternative solver options:\n",
            "    https://scikit-learn.org/stable/modules/linear_model.html#logistic-regression\n",
            "  n_iter_i = _check_optimize_result(\n"
          ]
        },
        {
          "output_type": "execute_result",
          "data": {
            "text/plain": [
              "LogisticRegression(random_state=0)"
            ],
            "text/html": [
              "<style>#sk-container-id-7 {color: black;}#sk-container-id-7 pre{padding: 0;}#sk-container-id-7 div.sk-toggleable {background-color: white;}#sk-container-id-7 label.sk-toggleable__label {cursor: pointer;display: block;width: 100%;margin-bottom: 0;padding: 0.3em;box-sizing: border-box;text-align: center;}#sk-container-id-7 label.sk-toggleable__label-arrow:before {content: \"▸\";float: left;margin-right: 0.25em;color: #696969;}#sk-container-id-7 label.sk-toggleable__label-arrow:hover:before {color: black;}#sk-container-id-7 div.sk-estimator:hover label.sk-toggleable__label-arrow:before {color: black;}#sk-container-id-7 div.sk-toggleable__content {max-height: 0;max-width: 0;overflow: hidden;text-align: left;background-color: #f0f8ff;}#sk-container-id-7 div.sk-toggleable__content pre {margin: 0.2em;color: black;border-radius: 0.25em;background-color: #f0f8ff;}#sk-container-id-7 input.sk-toggleable__control:checked~div.sk-toggleable__content {max-height: 200px;max-width: 100%;overflow: auto;}#sk-container-id-7 input.sk-toggleable__control:checked~label.sk-toggleable__label-arrow:before {content: \"▾\";}#sk-container-id-7 div.sk-estimator input.sk-toggleable__control:checked~label.sk-toggleable__label {background-color: #d4ebff;}#sk-container-id-7 div.sk-label input.sk-toggleable__control:checked~label.sk-toggleable__label {background-color: #d4ebff;}#sk-container-id-7 input.sk-hidden--visually {border: 0;clip: rect(1px 1px 1px 1px);clip: rect(1px, 1px, 1px, 1px);height: 1px;margin: -1px;overflow: hidden;padding: 0;position: absolute;width: 1px;}#sk-container-id-7 div.sk-estimator {font-family: monospace;background-color: #f0f8ff;border: 1px dotted black;border-radius: 0.25em;box-sizing: border-box;margin-bottom: 0.5em;}#sk-container-id-7 div.sk-estimator:hover {background-color: #d4ebff;}#sk-container-id-7 div.sk-parallel-item::after {content: \"\";width: 100%;border-bottom: 1px solid gray;flex-grow: 1;}#sk-container-id-7 div.sk-label:hover label.sk-toggleable__label {background-color: #d4ebff;}#sk-container-id-7 div.sk-serial::before {content: \"\";position: absolute;border-left: 1px solid gray;box-sizing: border-box;top: 0;bottom: 0;left: 50%;z-index: 0;}#sk-container-id-7 div.sk-serial {display: flex;flex-direction: column;align-items: center;background-color: white;padding-right: 0.2em;padding-left: 0.2em;position: relative;}#sk-container-id-7 div.sk-item {position: relative;z-index: 1;}#sk-container-id-7 div.sk-parallel {display: flex;align-items: stretch;justify-content: center;background-color: white;position: relative;}#sk-container-id-7 div.sk-item::before, #sk-container-id-7 div.sk-parallel-item::before {content: \"\";position: absolute;border-left: 1px solid gray;box-sizing: border-box;top: 0;bottom: 0;left: 50%;z-index: -1;}#sk-container-id-7 div.sk-parallel-item {display: flex;flex-direction: column;z-index: 1;position: relative;background-color: white;}#sk-container-id-7 div.sk-parallel-item:first-child::after {align-self: flex-end;width: 50%;}#sk-container-id-7 div.sk-parallel-item:last-child::after {align-self: flex-start;width: 50%;}#sk-container-id-7 div.sk-parallel-item:only-child::after {width: 0;}#sk-container-id-7 div.sk-dashed-wrapped {border: 1px dashed gray;margin: 0 0.4em 0.5em 0.4em;box-sizing: border-box;padding-bottom: 0.4em;background-color: white;}#sk-container-id-7 div.sk-label label {font-family: monospace;font-weight: bold;display: inline-block;line-height: 1.2em;}#sk-container-id-7 div.sk-label-container {text-align: center;}#sk-container-id-7 div.sk-container {/* jupyter's `normalize.less` sets `[hidden] { display: none; }` but bootstrap.min.css set `[hidden] { display: none !important; }` so we also need the `!important` here to be able to override the default hidden behavior on the sphinx rendered scikit-learn.org. See: https://github.com/scikit-learn/scikit-learn/issues/21755 */display: inline-block !important;position: relative;}#sk-container-id-7 div.sk-text-repr-fallback {display: none;}</style><div id=\"sk-container-id-7\" class=\"sk-top-container\"><div class=\"sk-text-repr-fallback\"><pre>LogisticRegression(random_state=0)</pre><b>In a Jupyter environment, please rerun this cell to show the HTML representation or trust the notebook. <br />On GitHub, the HTML representation is unable to render, please try loading this page with nbviewer.org.</b></div><div class=\"sk-container\" hidden><div class=\"sk-item\"><div class=\"sk-estimator sk-toggleable\"><input class=\"sk-toggleable__control sk-hidden--visually\" id=\"sk-estimator-id-7\" type=\"checkbox\" checked><label for=\"sk-estimator-id-7\" class=\"sk-toggleable__label sk-toggleable__label-arrow\">LogisticRegression</label><div class=\"sk-toggleable__content\"><pre>LogisticRegression(random_state=0)</pre></div></div></div></div></div>"
            ]
          },
          "metadata": {},
          "execution_count": 262
        }
      ]
    },
    {
      "cell_type": "code",
      "source": [
        "# prompt: classifier oredict\n",
        "\n",
        "y_pred = classifier.predict(X_test)\n",
        "y_pred\n",
        "accuracy = accuracy_score(y_test, y_pred)\n",
        "precision = precision_score(y_test, y_pred, average='weighted')\n",
        "recall = recall_score(y_test, y_pred, average='weighted')\n",
        "f1 = f1_score(y_test, y_pred, average='weighted')\n",
        "conf_matrix = confusion_matrix(y_test, y_pred)\n",
        "class_report = classification_report(y_test, y_pred)\n",
        "cm = confusion_matrix(y_test, y_pred)\n",
        "\n",
        "print('Accuracy:', accuracy)\n",
        "print('Precision:', precision)\n",
        "print('Recall:', recall)\n",
        "print('F1 Score:', f1)\n",
        "print('Confusion Matrix:', cm)"
      ],
      "metadata": {
        "colab": {
          "base_uri": "https://localhost:8080/"
        },
        "id": "DFsx_LW6LJmR",
        "outputId": "3e73b7ef-87c2-4665-bd9d-2b6fdec5afa4"
      },
      "execution_count": 263,
      "outputs": [
        {
          "output_type": "stream",
          "name": "stdout",
          "text": [
            "Accuracy: 0.8352672453174965\n",
            "Precision: 0.8354883786537449\n",
            "Recall: 0.8352672453174965\n",
            "F1 Score: 0.8287116461781908\n",
            "Confusion Matrix: [[2458    0    0    0    0]\n",
            " [   0 2445    0    0    0]\n",
            " [   0    0 2453    0    0]\n",
            " [   0    0    0  546 1257]\n",
            " [   0    0    0  546 1240]]\n"
          ]
        }
      ]
    },
    {
      "cell_type": "code",
      "source": [
        "def cattle_disease_info(disease):\n",
        "    # Dictionary containing precise descriptions, medications, and remedies for each disease\n",
        "    disease_data = {\n",
        "        'pneumonia': {\n",
        "            'description': 'Pneumonia or Bovine Respiratory Disease (BRD) is a common respiratory infection in cattle, caused by bacteria, viruses, or environmental stress factors. Symptoms include difficulty breathing, coughing, and nasal discharge.',\n",
        "            'remedies': [\n",
        "                'Antibiotics such as oxytetracycline or florfenicol to treat bacterial infections.',\n",
        "                'Anti-inflammatory drugs like flunixin meglumine to reduce lung inflammation.',\n",
        "                'Proper ventilation, clean housing, and reduced overcrowding to minimize environmental stress.',\n",
        "                'Vaccination against respiratory viruses such as Infectious Bovine Rhinotracheitis (IBR) and Bovine Respiratory Syncytial Virus (BRSV).'\n",
        "            ]\n",
        "        },\n",
        "        'lumpy virus': {\n",
        "            'description': 'Lumpy Skin Disease (LSD) is a viral disease caused by the Lumpy Skin Disease Virus (LSDV), leading to nodules on the skin, fever, and reduced milk production.',\n",
        "            'remedies': [\n",
        "                'Vaccination with live attenuated LSD vaccines to prevent the disease.',\n",
        "                'Antibiotics such as oxytetracycline to treat secondary bacterial infections.',\n",
        "                'Non-steroidal anti-inflammatory drugs (NSAIDs) to manage pain and inflammation.',\n",
        "                'Isolate infected animals to prevent the spread of the virus.'\n",
        "            ]\n",
        "        },\n",
        "        'blackleg': {\n",
        "            'description': 'Blackleg is a fatal bacterial disease caused by *Clostridium chauvoei*, primarily affecting young cattle. It leads to sudden death, with symptoms including lameness, fever, and muscle swelling.',\n",
        "            'remedies': [\n",
        "                'Vaccination with a multivalent clostridial vaccine to prevent blackleg.',\n",
        "                'Immediate treatment with high doses of penicillin in early stages (though treatment is often ineffective after symptoms appear).',\n",
        "                'Proper disposal of carcasses to prevent the spread of spores in the environment.',\n",
        "                'Regular vaccination of cattle in endemic areas to prevent outbreaks.'\n",
        "            ]\n",
        "        },\n",
        "        'foot and mouth': {\n",
        "            'description': 'Foot and Mouth Disease (FMD) is a highly contagious viral disease affecting cloven-hoofed animals, causing blisters in the mouth and feet, leading to lameness and decreased productivity.',\n",
        "            'remedies': [\n",
        "                'There is no specific treatment for FMD. Supportive care includes isolation of infected animals and rest.',\n",
        "                'Vaccination is used to prevent outbreaks in FMD-free countries or regions.',\n",
        "                'Disinfection of premises and equipment with sodium hydroxide or citric acid to control viral spread.',\n",
        "                'Provide soft feed and anti-inflammatory drugs like flunixin meglumine to reduce pain and fever.'\n",
        "            ]\n",
        "        },\n",
        "        'anthrax': {\n",
        "            'description': 'Anthrax is a zoonotic bacterial disease caused by *Bacillus anthracis*, often resulting in sudden death in cattle without visible symptoms. It is highly fatal and transmissible.',\n",
        "            'remedies': [\n",
        "                'Vaccination in endemic areas using the Sterne vaccine to prevent outbreaks.',\n",
        "                'Immediate treatment with antibiotics such as penicillin or tetracycline if diagnosed early.',\n",
        "                'Strict quarantine and disinfection measures to prevent the spread.',\n",
        "                'Do not open or move carcasses suspected of anthrax to prevent spore release; instead, burn or bury the carcass deeply with lime.'\n",
        "            ]\n",
        "        }\n",
        "    }\n",
        "\n",
        "    # Convert disease name to lowercase for case-insensitive search\n",
        "    disease = disease.lower()\n",
        "\n",
        "    # Check if the disease is in the dictionary\n",
        "    if disease in disease_data:\n",
        "        return {\n",
        "            'disease': disease.capitalize(),\n",
        "            'description': disease_data[disease]['description'],\n",
        "            'remedies': disease_data[disease]['remedies']\n",
        "        }\n",
        "    else:\n",
        "        return {\"error\": \"Disease information not found. Please check the disease name.\"}\n",
        "\n",
        "# Example usage\n",
        "\n"
      ],
      "metadata": {
        "id": "VukTnMd98NhX"
      },
      "execution_count": 264,
      "outputs": []
    },
    {
      "cell_type": "code",
      "source": [
        "def predictAnimalDisease(input_data):\n",
        "    from scipy.sparse import csr_matrix\n",
        "    print(input_data)\n",
        "    input_df = pd.DataFrame(input_data, columns = categorical_features)\n",
        "\n",
        "    # Apply the ColumnTransformer to the DataFrame\n",
        "    transformed_data = ct.transform(input_df)\n",
        "\n",
        "    # Convert the transformed data to CSR format (if not already in that format)\n",
        "    if not isinstance(transformed_data, csr_matrix):\n",
        "        transformed_data = csr_matrix(transformed_data)\n",
        "\n",
        "    y_pred_svm = classifier.predict(transformed_data)\n",
        "\n",
        "    #print(cattle_disease_info(y_pred_svm[0]))\n",
        "    return cattle_disease_info(y_pred_svm[0])\n",
        "\n",
        "\n",
        "predictAnimalDisease([[\"cow\",\"depression\",\"painless lumps\",\"loss of appetite\"]])\n"
      ],
      "metadata": {
        "colab": {
          "base_uri": "https://localhost:8080/"
        },
        "id": "W7mhEpbS8Qp4",
        "outputId": "27c6d95d-57f2-4e38-fa89-40f16ea14901"
      },
      "execution_count": 301,
      "outputs": [
        {
          "output_type": "stream",
          "name": "stdout",
          "text": [
            "[['cow', 'depression', 'painless lumps', 'loss of appetite']]\n"
          ]
        },
        {
          "output_type": "execute_result",
          "data": {
            "text/plain": [
              "{'disease': 'Pneumonia',\n",
              " 'description': 'Pneumonia or Bovine Respiratory Disease (BRD) is a common respiratory infection in cattle, caused by bacteria, viruses, or environmental stress factors. Symptoms include difficulty breathing, coughing, and nasal discharge.',\n",
              " 'remedies': ['Antibiotics such as oxytetracycline or florfenicol to treat bacterial infections.',\n",
              "  'Anti-inflammatory drugs like flunixin meglumine to reduce lung inflammation.',\n",
              "  'Proper ventilation, clean housing, and reduced overcrowding to minimize environmental stress.',\n",
              "  'Vaccination against respiratory viruses such as Infectious Bovine Rhinotracheitis (IBR) and Bovine Respiratory Syncytial Virus (BRSV).']}"
            ]
          },
          "metadata": {},
          "execution_count": 301
        }
      ]
    },
    {
      "cell_type": "markdown",
      "source": [],
      "metadata": {
        "id": "zGWxDYkCQllg"
      }
    },
    {
      "cell_type": "code",
      "source": [
        "!pip install modelbit\n"
      ],
      "metadata": {
        "colab": {
          "base_uri": "https://localhost:8080/"
        },
        "id": "fi5lW5qU9hXj",
        "outputId": "6e575d10-75b1-4f8a-fa9d-785d92042d3f"
      },
      "execution_count": 266,
      "outputs": [
        {
          "output_type": "stream",
          "name": "stdout",
          "text": [
            "Requirement already satisfied: modelbit in /usr/local/lib/python3.10/dist-packages (0.41.6)\n",
            "Requirement already satisfied: pycryptodomex in /usr/local/lib/python3.10/dist-packages (from modelbit) (3.20.0)\n",
            "Requirement already satisfied: pandas in /usr/local/lib/python3.10/dist-packages (from modelbit) (2.1.4)\n",
            "Requirement already satisfied: tqdm in /usr/local/lib/python3.10/dist-packages (from modelbit) (4.66.5)\n",
            "Requirement already satisfied: requests in /usr/local/lib/python3.10/dist-packages (from modelbit) (2.32.3)\n",
            "Requirement already satisfied: types-requests in /usr/local/lib/python3.10/dist-packages (from modelbit) (2.32.0.20240905)\n",
            "Requirement already satisfied: pyyaml in /usr/local/lib/python3.10/dist-packages (from modelbit) (6.0.2)\n",
            "Requirement already satisfied: types-PyYAML in /usr/local/lib/python3.10/dist-packages (from modelbit) (6.0.12.20240808)\n",
            "Requirement already satisfied: jinja2 in /usr/local/lib/python3.10/dist-packages (from modelbit) (3.1.4)\n",
            "Requirement already satisfied: zstandard in /usr/local/lib/python3.10/dist-packages (from modelbit) (0.23.0)\n",
            "Requirement already satisfied: appdirs in /usr/local/lib/python3.10/dist-packages (from modelbit) (1.4.4)\n",
            "Requirement already satisfied: texttable in /usr/local/lib/python3.10/dist-packages (from modelbit) (1.7.0)\n",
            "Requirement already satisfied: build in /usr/local/lib/python3.10/dist-packages (from modelbit) (0.10.0)\n",
            "Requirement already satisfied: pkginfo in /usr/local/lib/python3.10/dist-packages (from modelbit) (1.11.1)\n",
            "Requirement already satisfied: boto3>=1.23.0 in /usr/local/lib/python3.10/dist-packages (from modelbit) (1.35.12)\n",
            "Requirement already satisfied: numpy<2 in /usr/local/lib/python3.10/dist-packages (from modelbit) (1.26.4)\n",
            "Requirement already satisfied: importlib-metadata in /usr/local/lib/python3.10/dist-packages (from modelbit) (8.4.0)\n",
            "Requirement already satisfied: urllib3>=1.21.1 in /usr/local/lib/python3.10/dist-packages (from modelbit) (2.0.7)\n",
            "Requirement already satisfied: botocore<1.36.0,>=1.35.12 in /usr/local/lib/python3.10/dist-packages (from boto3>=1.23.0->modelbit) (1.35.12)\n",
            "Requirement already satisfied: jmespath<2.0.0,>=0.7.1 in /usr/local/lib/python3.10/dist-packages (from boto3>=1.23.0->modelbit) (1.0.1)\n",
            "Requirement already satisfied: s3transfer<0.11.0,>=0.10.0 in /usr/local/lib/python3.10/dist-packages (from boto3>=1.23.0->modelbit) (0.10.2)\n",
            "Requirement already satisfied: packaging>=19.0 in /usr/local/lib/python3.10/dist-packages (from build->modelbit) (24.1)\n",
            "Requirement already satisfied: pyproject_hooks in /usr/local/lib/python3.10/dist-packages (from build->modelbit) (1.1.0)\n",
            "Requirement already satisfied: tomli>=1.1.0 in /usr/local/lib/python3.10/dist-packages (from build->modelbit) (2.0.1)\n",
            "Requirement already satisfied: zipp>=0.5 in /usr/local/lib/python3.10/dist-packages (from importlib-metadata->modelbit) (3.20.1)\n",
            "Requirement already satisfied: MarkupSafe>=2.0 in /usr/local/lib/python3.10/dist-packages (from jinja2->modelbit) (2.1.5)\n",
            "Requirement already satisfied: python-dateutil>=2.8.2 in /usr/local/lib/python3.10/dist-packages (from pandas->modelbit) (2.8.2)\n",
            "Requirement already satisfied: pytz>=2020.1 in /usr/local/lib/python3.10/dist-packages (from pandas->modelbit) (2024.1)\n",
            "Requirement already satisfied: tzdata>=2022.1 in /usr/local/lib/python3.10/dist-packages (from pandas->modelbit) (2024.1)\n",
            "Requirement already satisfied: charset-normalizer<4,>=2 in /usr/local/lib/python3.10/dist-packages (from requests->modelbit) (3.3.2)\n",
            "Requirement already satisfied: idna<4,>=2.5 in /usr/local/lib/python3.10/dist-packages (from requests->modelbit) (3.8)\n",
            "Requirement already satisfied: certifi>=2017.4.17 in /usr/local/lib/python3.10/dist-packages (from requests->modelbit) (2024.8.30)\n",
            "Requirement already satisfied: six>=1.5 in /usr/local/lib/python3.10/dist-packages (from python-dateutil>=2.8.2->pandas->modelbit) (1.16.0)\n"
          ]
        }
      ]
    },
    {
      "cell_type": "code",
      "source": [
        "import modelbit\n",
        "mb = modelbit.login()"
      ],
      "metadata": {
        "id": "Sv39YeYP9j7V"
      },
      "execution_count": 267,
      "outputs": []
    },
    {
      "cell_type": "code",
      "source": [
        "mb.deploy(predictAnimalDisease)"
      ],
      "metadata": {
        "colab": {
          "base_uri": "https://localhost:8080/",
          "height": 188
        },
        "id": "ROAcZuvW--dZ",
        "outputId": "e6cc312b-cb76-4dea-c7fa-c3e6ac2c1658"
      },
      "execution_count": 302,
      "outputs": [
        {
          "output_type": "display_data",
          "data": {
            "text/plain": [
              "<IPython.core.display.HTML object>"
            ],
            "text/html": [
              "<div style=\"margin: 0; padding: 5px; line-height: 1.75; font-size: 14px; vertical-align: baseline; list-style: none; font-family: Roboto, Arial, sans-serif; background: none;\">\n",
              "  <div>\n",
              "    <span style=\"margin: 0; padding: 0; line-height: 1.75; font-size: 14px; vertical-align: baseline; list-style: none; font-family: Roboto, Arial, sans-serif; background: none; font-weight: bold; color: #15803d;\">Deploying </span> <span style=\"margin: 0; padding: 3px; line-height: 1.75; font-size: 13px; vertical-align: baseline; list-style: none; font-family: monospace; background: none; font-weight: 400; background-color: rgba(209, 213, 219, 0.2);\">predictAnimalDisease</span>\n",
              "  </div>\n",
              "  \n",
              "\n",
              "  <div style=\"margin: 0; padding: 0; line-height: 1.75; font-size: 14px; vertical-align: baseline; list-style: none; font-family: Roboto, Arial, sans-serif; background: none;\">Uploading dependencies...</div>\n",
              "</div>"
            ]
          },
          "metadata": {}
        },
        {
          "output_type": "display_data",
          "data": {
            "text/plain": [
              "<IPython.core.display.HTML object>"
            ],
            "text/html": [
              "<div style=\"margin: 0; padding: 5px; line-height: 1.75; font-size: 14px; vertical-align: baseline; list-style: none; font-family: Roboto, Arial, sans-serif; background: none;\">\n",
              "  <div style=\"margin: 0; padding: 0; line-height: 1.75; font-size: 14px; vertical-align: baseline; list-style: none; font-family: Roboto, Arial, sans-serif; background: none; font-weight: bold; color: #15803d;\">Success!</div>\n",
              "  \n",
              "    <div style=\"margin: 0; padding: 0; line-height: 1.75; font-size: 14px; vertical-align: baseline; list-style: none; font-family: Roboto, Arial, sans-serif; background: none;\">\n",
              "      Deployment <span style=\"margin: 0; padding: 3px; line-height: 1.75; font-size: 13px; vertical-align: baseline; list-style: none; font-family: monospace; background: none; font-weight: 400; background-color: rgba(209, 213, 219, 0.2);\">predictAnimalDisease</span>\n",
              "      will be ready in  a few seconds!\n",
              "    </div>\n",
              "  \n",
              "\n",
              "  <a href=\"https://ap-south-1.modelbit.com/w/pugazhmukilan/main/deployments/predictAnimalDisease/apis\" target=\"_blank\" style=\"display: inline-block; margin-top: 12px;\" >\n",
              "    <div\n",
              "      style=\"display: inline-block; background-color: #845B99; border-radius: 0.375rem; color: white; cursor: pointer; font-size: 14px; font-weight: 700; padding: 8px 16px;\"\n",
              "      onmouseenter=\"this.style.background='#714488'\"\n",
              "      onmouseleave=\"this.style.background='#845B99'\"\n",
              "    >\n",
              "      View in Modelbit\n",
              "    </div>\n",
              "  </a>\n",
              "</div>"
            ]
          },
          "metadata": {}
        }
      ]
    },
    {
      "cell_type": "code",
      "source": [
        "input_data = [[\"cow\", \"depression\", \"painless lumps\", \"loss of appetite\"]]"
      ],
      "metadata": {
        "id": "eSnEXBHoCvpU"
      },
      "execution_count": 303,
      "outputs": []
    },
    {
      "cell_type": "markdown",
      "source": [],
      "metadata": {
        "id": "DxrafBm1k4XK"
      }
    },
    {
      "cell_type": "code",
      "source": [
        "modelbit.get_inference(\n",
        "  region=\"ap-south-1\",\n",
        "  workspace=\"pugazhmukilan\",\n",
        "  deployment=\"predictAnimalDisease\",\n",
        "  data=[[1, input_data]]\n",
        ")"
      ],
      "metadata": {
        "colab": {
          "base_uri": "https://localhost:8080/"
        },
        "id": "K1Oy6GPWirGC",
        "outputId": "e3eb042e-9b04-41f3-9511-463b625a8cba"
      },
      "execution_count": 304,
      "outputs": [
        {
          "output_type": "execute_result",
          "data": {
            "text/plain": [
              "{'data': [[1,\n",
              "   {'disease': 'Pneumonia',\n",
              "    'description': 'Pneumonia or Bovine Respiratory Disease (BRD) is a common respiratory infection in cattle, caused by bacteria, viruses, or environmental stress factors. Symptoms include difficulty breathing, coughing, and nasal discharge.',\n",
              "    'remedies': ['Antibiotics such as oxytetracycline or florfenicol to treat bacterial infections.',\n",
              "     'Anti-inflammatory drugs like flunixin meglumine to reduce lung inflammation.',\n",
              "     'Proper ventilation, clean housing, and reduced overcrowding to minimize environmental stress.',\n",
              "     'Vaccination against respiratory viruses such as Infectious Bovine Rhinotracheitis (IBR) and Bovine Respiratory Syncytial Virus (BRSV).']}]]}"
            ]
          },
          "metadata": {},
          "execution_count": 304
        }
      ]
    },
    {
      "cell_type": "code",
      "source": [],
      "metadata": {
        "id": "9fHy2mxOkLlY"
      },
      "execution_count": null,
      "outputs": []
    }
  ]
}